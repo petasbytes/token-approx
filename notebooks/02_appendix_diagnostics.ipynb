{
  "cells": [
    {
      "cell_type": "markdown",
      "id": "57889fa3",
      "metadata": {},
      "source": [
        "# Appendix — Diagnostics, Ablations, and Learning Curves\n",
        "\n",
        "Technical deep-dive supporting the main notebook: extended diagnostics, ablations, coefficient checks, and learning curves."
      ]
    },
    {
      "cell_type": "markdown",
      "id": "e58cd8e5",
      "metadata": {},
      "source": [
        "## How to use this appendix\n",
        "\n",
        "This appendix supports the main results by stress‑testing assumptions and stability.\n",
        "\n",
        "- Residual Diagnostics: check linearity and constant variance in residuals.\n",
        "- Test Error Diagnostics: ECDF, top absolute errors, and signed error vs predicted (small n → illustrative only).\n",
        "- Ablations (OLS subsets): compare feature subsets; flag those within `DECISION_MARGIN` and prefer simpler when tied.\n",
        "- Learning Curves: when available, show MAE/uncertainty vs sample size; if skipped, more data is needed.\n",
        "- Coefficient Checks: sanity‑check signs/magnitudes and verify manual reconstruction.\n",
        "- Reproducibility: library versions for reference."
      ]
    },
    {
      "cell_type": "markdown",
      "id": "3e926b53",
      "metadata": {},
      "source": [
        "### Imports"
      ]
    },
    {
      "cell_type": "code",
      "execution_count": 1,
      "id": "28c4dc7e",
      "metadata": {},
      "outputs": [],
      "source": [
        "from itertools import combinations\n",
        "from pathlib import Path\n",
        "\n",
        "import numpy as np\n",
        "import pandas as pd\n",
        "import sklearn\n",
        "from IPython.display import display, Markdown\n",
        "from sklearn.linear_model import LinearRegression\n",
        "from sklearn.model_selection import train_test_split\n",
        "\n",
        "from utils import (\n",
        "    SEED as SEED_DEFAULT, N_GRID_DEFAULT, DECISION_MARGIN_DEFAULT, CV_SPLITS_A_DEFAULT, CV_SPLITS_DEFAULT, CV_REPEATS_DEFAULT, BOOT_B_DEFAULT, FEATURES,\n",
        "    load_records, validate_records, plot_residuals_grid, ols_ablations, learning_curve, plot_learning_curve, coef_sanity_checks, cv_single_feature, select_best, abs_error_stats, plot_abs_error_ecdf, plot_signed_error_vs_pred, best_subset_ols,\n",
        ")"
      ]
    },
    {
      "cell_type": "markdown",
      "id": "e950975e",
      "metadata": {},
      "source": [
        "### Configuration"
      ]
    },
    {
      "cell_type": "code",
      "execution_count": 2,
      "id": "89e45408",
      "metadata": {},
      "outputs": [],
      "source": [
        "# Overrides\n",
        "SEED = SEED_DEFAULT\n",
        "N_GRID = N_GRID_DEFAULT\n",
        "DECISION_MARGIN = DECISION_MARGIN_DEFAULT\n",
        "CV_SPLITS = CV_SPLITS_DEFAULT\n",
        "CV_REPEATS = CV_REPEATS_DEFAULT\n",
        "BOOT_B = BOOT_B_DEFAULT"
      ]
    },
    {
      "cell_type": "markdown",
      "id": "01f1485e",
      "metadata": {},
      "source": [
        "### Load Data and Split"
      ]
    },
    {
      "cell_type": "code",
      "execution_count": 3,
      "id": "c5d5e276",
      "metadata": {},
      "outputs": [
        {
          "name": "stdout",
          "output_type": "stream",
          "text": [
            "{'features_path': '/Users/peta/Documents/dev/token-approx/data/processed/features/features.jsonl'}\n",
            "{'total_before': 25, 'drops': {'input_tokens_na': 0, 'bytes_non_numeric_or_na': 0, 'runes_non_numeric_or_na': 0, 'words_non_numeric_or_na': 0, 'lines_non_numeric_or_na': 0}, 'total_after': 25}\n"
          ]
        }
      ],
      "source": [
        "base = Path('..').resolve()\n",
        "features_path = base / 'data' / 'processed' / 'features' / 'features.jsonl'\n",
        "print({'features_path': str(features_path)})\n",
        "\n",
        "df = load_records(features_path)\n",
        "df = validate_records(df)\n",
        "print(df.attrs.get('validation_info', {}))\n",
        "\n",
        "train_df, test_df = train_test_split(df, test_size=0.2, random_state=SEED)"
      ]
    },
    {
      "cell_type": "markdown",
      "id": "2b32d17a",
      "metadata": {},
      "source": [
        "## Residual Diagnostics"
      ]
    },
    {
      "cell_type": "markdown",
      "id": "3f52eeb1",
      "metadata": {},
      "source": [
        "Fit OLS-best-subset on train/test and plot residual diagnostics."
      ]
    },
    {
      "cell_type": "code",
      "execution_count": 4,
      "id": "bbb8c64f",
      "metadata": {},
      "outputs": [
        {
          "data": {
            "image/png": "[encoded data removed]",
            "text/plain": [
              "<Figure size 1300x320 with 3 Axes>"
            ]
          },
          "metadata": {},
          "output_type": "display_data"
        }
      ],
      "source": [
        "# Fit OLS best subset for diagnostics\n",
        "res_b_ols = best_subset_ols(train_df, test_df, features=FEATURES)\n",
        "\n",
        "yhat = res_b_ols['pred']\n",
        "resid = res_b_ols['yte'] - yhat\n",
        "feat_cols = res_b_ols.get('cols', []) or ['bytes', 'runes', 'words', 'lines']\n",
        "\n",
        "_ = plot_residuals_grid(\n",
        "    yhat=yhat,\n",
        "    resid=resid,\n",
        "    df=test_df,\n",
        "    feat_cols=feat_cols,\n",
        "    cols=min(3, len(feat_cols) + 1),\n",
        ")"
      ]
    },
    {
      "cell_type": "markdown",
      "id": "396e644b",
      "metadata": {},
      "source": [
        "### Takeaways\n",
        "\n",
        "- No clear residual pattern on this split; one moderate outlier.\n",
        "- Sample size on test is small → treat linearity/variance conclusions as tentative."
      ]
    },
    {
      "cell_type": "markdown",
      "id": "0a434c27",
      "metadata": {},
      "source": [
        "## Test Error Diagnostics\n",
        "\n",
        "Detailed test error views supporting the main notebook."
      ]
    },
    {
      "cell_type": "code",
      "execution_count": 5,
      "id": "b6b1c767",
      "metadata": {},
      "outputs": [
        {
          "data": {
            "text/markdown": [
              "#### Test absolute errors (sorted)"
            ],
            "text/plain": [
              "<IPython.core.display.Markdown object>"
            ]
          },
          "metadata": {},
          "output_type": "display_data"
        },
        {
          "data": {
            "text/html": [
              "<div>\n",
              "<style scoped>\n",
              "    .dataframe tbody tr th:only-of-type {\n",
              "        vertical-align: middle;\n",
              "    }\n",
              "\n",
              "    .dataframe tbody tr th {\n",
              "        vertical-align: top;\n",
              "    }\n",
              "\n",
              "    .dataframe thead th {\n",
              "        text-align: right;\n",
              "    }\n",
              "</style>\n",
              "<table border=\"1\" class=\"dataframe\">\n",
              "  <thead>\n",
              "    <tr style=\"text-align: right;\">\n",
              "      <th></th>\n",
              "      <th>0</th>\n",
              "      <th>1</th>\n",
              "      <th>2</th>\n",
              "      <th>3</th>\n",
              "      <th>4</th>\n",
              "    </tr>\n",
              "  </thead>\n",
              "  <tbody>\n",
              "    <tr>\n",
              "      <th>abs_err</th>\n",
              "      <td>17.600508</td>\n",
              "      <td>40.824671</td>\n",
              "      <td>97.218188</td>\n",
              "      <td>207.269282</td>\n",
              "      <td>280.296767</td>\n",
              "    </tr>\n",
              "  </tbody>\n",
              "</table>\n",
              "</div>"
            ],
            "text/plain": [
              "                 0          1          2           3           4\n",
              "abs_err  17.600508  40.824671  97.218188  207.269282  280.296767"
            ]
          },
          "metadata": {},
          "output_type": "display_data"
        },
        {
          "data": {
            "image/png": "[encoded data removed]",
            "text/plain": [
              "<Figure size 500x320 with 1 Axes>"
            ]
          },
          "metadata": {},
          "output_type": "display_data"
        },
        {
          "data": {
            "text/markdown": [
              "#### Test predictions and errors (sorted by abs_err)"
            ],
            "text/plain": [
              "<IPython.core.display.Markdown object>"
            ]
          },
          "metadata": {},
          "output_type": "display_data"
        },
        {
          "data": {
            "text/html": [
              "<div>\n",
              "<style scoped>\n",
              "    .dataframe tbody tr th:only-of-type {\n",
              "        vertical-align: middle;\n",
              "    }\n",
              "\n",
              "    .dataframe tbody tr th {\n",
              "        vertical-align: top;\n",
              "    }\n",
              "\n",
              "    .dataframe thead th {\n",
              "        text-align: right;\n",
              "    }\n",
              "</style>\n",
              "<table border=\"1\" class=\"dataframe\">\n",
              "  <thead>\n",
              "    <tr style=\"text-align: right;\">\n",
              "      <th></th>\n",
              "      <th>y_true</th>\n",
              "      <th>y_pred</th>\n",
              "      <th>signed_err</th>\n",
              "      <th>abs_err</th>\n",
              "    </tr>\n",
              "  </thead>\n",
              "  <tbody>\n",
              "    <tr>\n",
              "      <th>0</th>\n",
              "      <td>10029</td>\n",
              "      <td>9748.703233</td>\n",
              "      <td>280.296767</td>\n",
              "      <td>280.296767</td>\n",
              "    </tr>\n",
              "    <tr>\n",
              "      <th>1</th>\n",
              "      <td>9548</td>\n",
              "      <td>9755.269282</td>\n",
              "      <td>-207.269282</td>\n",
              "      <td>207.269282</td>\n",
              "    </tr>\n",
              "    <tr>\n",
              "      <th>2</th>\n",
              "      <td>9907</td>\n",
              "      <td>9809.781812</td>\n",
              "      <td>97.218188</td>\n",
              "      <td>97.218188</td>\n",
              "    </tr>\n",
              "    <tr>\n",
              "      <th>3</th>\n",
              "      <td>9580</td>\n",
              "      <td>9539.175329</td>\n",
              "      <td>40.824671</td>\n",
              "      <td>40.824671</td>\n",
              "    </tr>\n",
              "    <tr>\n",
              "      <th>4</th>\n",
              "      <td>9566</td>\n",
              "      <td>9548.399492</td>\n",
              "      <td>17.600508</td>\n",
              "      <td>17.600508</td>\n",
              "    </tr>\n",
              "  </tbody>\n",
              "</table>\n",
              "</div>"
            ],
            "text/plain": [
              "   y_true       y_pred  signed_err     abs_err\n",
              "0   10029  9748.703233  280.296767  280.296767\n",
              "1    9548  9755.269282 -207.269282  207.269282\n",
              "2    9907  9809.781812   97.218188   97.218188\n",
              "3    9580  9539.175329   40.824671   40.824671\n",
              "4    9566  9548.399492   17.600508   17.600508"
            ]
          },
          "metadata": {},
          "output_type": "display_data"
        },
        {
          "data": {
            "image/png": "[encoded data removed]",
            "text/plain": [
              "<Figure size 500x300 with 1 Axes>"
            ]
          },
          "metadata": {},
          "output_type": "display_data"
        }
      ],
      "source": [
        "# Use the OLS best subset predictions computed earlier in this appendix\n",
        "y_true = res_b_ols['yte']\n",
        "y_pred = res_b_ols['pred']\n",
        "\n",
        "# Absolute errors\n",
        "abs_err = np.abs(y_true - y_pred)\n",
        "err_df = pd.DataFrame({'abs_err': np.sort(abs_err)})\n",
        "display(Markdown(\"#### Test absolute errors (sorted)\"))\n",
        "display(err_df.T)\n",
        "\n",
        "# Compute summary numbers\n",
        "stats = abs_error_stats(y_true, y_pred)\n",
        "med, p95, mx, n = stats['median'], stats['p95'], stats['max'], stats['n']\n",
        "\n",
        "# ECDF step curve\n",
        "ax = plot_abs_error_ecdf(y_true, y_pred, title='ECDF of absolute error', label_refs=True)\n",
        "\n",
        "# Signed error diagnostics table \n",
        "signed_err = y_true - y_pred\n",
        "tmp = pd.DataFrame({\n",
        "    'y_true': y_true,\n",
        "    'y_pred': y_pred,\n",
        "    'signed_err': signed_err,\n",
        "    'abs_err': abs_err,\n",
        "}).sort_values('abs_err', ascending=False).reset_index(drop=True)\n",
        "display(Markdown(\"#### Test predictions and errors (sorted by abs_err)\"))\n",
        "display(tmp)\n",
        "\n",
        "# Signed error vs predicted scatter\n",
        "_ = plot_signed_error_vs_pred(y_true, y_pred, title='Signed error vs predicted')"
      ]
    },
    {
      "cell_type": "markdown",
      "id": "93ad25ee",
      "metadata": {},
      "source": [
        "### Takeaways\n",
        "- n=5 test set → indicative only.\n",
        "- On this split, median and max absolute errors provide a quick sense check; ECDF/table are included for transparency.\n",
        "- We rely on train‑side repeated‑CV with bootstrap CIs for stability; collect more test samples before drawing distributional conclusions."
      ]
    },
    {
      "cell_type": "markdown",
      "id": "fc5db9ea",
      "metadata": {},
      "source": [
        "## Ablations (OLS Subsets)"
      ]
    },
    {
      "cell_type": "markdown",
      "id": "7c118131",
      "metadata": {},
      "source": [
        "Feature configurations are marked as `within_margin` when their MAE is within `DECISION_MARGIN` of the best MAE. Treat those as equivalently good on this dataset; prefer the simpler set unless a larger set gives a clear, robust gain."
      ]
    },
    {
      "cell_type": "code",
      "execution_count": 6,
      "id": "3fd6c6ab",
      "metadata": {},
      "outputs": [
        {
          "data": {
            "text/html": [
              "<style type=\"text/css\">\n",
              "#T_3e5ec_row0_col0, #T_3e5ec_row0_col1, #T_3e5ec_row0_col2, #T_3e5ec_row0_col3, #T_3e5ec_row0_col4, #T_3e5ec_row0_col5, #T_3e5ec_row1_col0, #T_3e5ec_row1_col1, #T_3e5ec_row1_col2, #T_3e5ec_row1_col3, #T_3e5ec_row1_col4, #T_3e5ec_row1_col5 {\n",
              "  font-weight: bold;\n",
              "}\n",
              "</style>\n",
              "<table id=\"T_3e5ec\">\n",
              "  <thead>\n",
              "    <tr>\n",
              "      <th class=\"blank level0\" >&nbsp;</th>\n",
              "      <th id=\"T_3e5ec_level0_col0\" class=\"col_heading level0 col0\" >cols</th>\n",
              "      <th id=\"T_3e5ec_level0_col1\" class=\"col_heading level0 col1\" >mae</th>\n",
              "      <th id=\"T_3e5ec_level0_col2\" class=\"col_heading level0 col2\" >bias</th>\n",
              "      <th id=\"T_3e5ec_level0_col3\" class=\"col_heading level0 col3\" >intercept</th>\n",
              "      <th id=\"T_3e5ec_level0_col4\" class=\"col_heading level0 col4\" >coefs</th>\n",
              "      <th id=\"T_3e5ec_level0_col5\" class=\"col_heading level0 col5\" >within_margin</th>\n",
              "    </tr>\n",
              "  </thead>\n",
              "  <tbody>\n",
              "    <tr>\n",
              "      <th id=\"T_3e5ec_level0_row0\" class=\"row_heading level0 row0\" >0</th>\n",
              "      <td id=\"T_3e5ec_row0_col0\" class=\"data row0 col0\" >['bytes', 'words']</td>\n",
              "      <td id=\"T_3e5ec_row0_col1\" class=\"data row0 col1\" >128.641883</td>\n",
              "      <td id=\"T_3e5ec_row0_col2\" class=\"data row0 col2\" >45.734170</td>\n",
              "      <td id=\"T_3e5ec_row0_col3\" class=\"data row0 col3\" >-4001.201841</td>\n",
              "      <td id=\"T_3e5ec_row0_col4\" class=\"data row0 col4\" >{'bytes': 0.5758117480861196, 'words': -1.1822491809479783}</td>\n",
              "      <td id=\"T_3e5ec_row0_col5\" class=\"data row0 col5\" >True</td>\n",
              "    </tr>\n",
              "    <tr>\n",
              "      <th id=\"T_3e5ec_level0_row1\" class=\"row_heading level0 row1\" >1</th>\n",
              "      <td id=\"T_3e5ec_row1_col0\" class=\"data row1 col0\" >['bytes', 'runes', 'words']</td>\n",
              "      <td id=\"T_3e5ec_row1_col1\" class=\"data row1 col1\" >131.046255</td>\n",
              "      <td id=\"T_3e5ec_row1_col2\" class=\"data row1 col2\" >59.904726</td>\n",
              "      <td id=\"T_3e5ec_row1_col3\" class=\"data row1 col3\" >-2610.405772</td>\n",
              "      <td id=\"T_3e5ec_row1_col4\" class=\"data row1 col4\" >{'bytes': 0.7328881520666659, 'runes': -0.2381400225536208, 'words': -0.968581204429918}</td>\n",
              "      <td id=\"T_3e5ec_row1_col5\" class=\"data row1 col5\" >True</td>\n",
              "    </tr>\n",
              "    <tr>\n",
              "      <th id=\"T_3e5ec_level0_row2\" class=\"row_heading level0 row2\" >2</th>\n",
              "      <td id=\"T_3e5ec_row2_col0\" class=\"data row2 col0\" >['bytes', 'lines', 'runes', 'words']</td>\n",
              "      <td id=\"T_3e5ec_row2_col1\" class=\"data row2 col1\" >140.694147</td>\n",
              "      <td id=\"T_3e5ec_row2_col2\" class=\"data row2 col2\" >36.982616</td>\n",
              "      <td id=\"T_3e5ec_row2_col3\" class=\"data row2 col3\" >-2789.705253</td>\n",
              "      <td id=\"T_3e5ec_row2_col4\" class=\"data row2 col4\" >{'bytes': 0.4767476275305158, 'lines': 2.0566415368291557, 'runes': -0.005441236064244524, 'words': -1.0124128837863848}</td>\n",
              "      <td id=\"T_3e5ec_row2_col5\" class=\"data row2 col5\" >False</td>\n",
              "    </tr>\n",
              "    <tr>\n",
              "      <th id=\"T_3e5ec_level0_row3\" class=\"row_heading level0 row3\" >3</th>\n",
              "      <td id=\"T_3e5ec_row3_col0\" class=\"data row3 col0\" >['bytes', 'lines', 'words']</td>\n",
              "      <td id=\"T_3e5ec_row3_col1\" class=\"data row3 col1\" >140.771939</td>\n",
              "      <td id=\"T_3e5ec_row3_col2\" class=\"data row3 col2\" >36.558432</td>\n",
              "      <td id=\"T_3e5ec_row3_col3\" class=\"data row3 col3\" >-2808.431922</td>\n",
              "      <td id=\"T_3e5ec_row3_col4\" class=\"data row3 col4\" >{'bytes': 0.472022931321987, 'lines': 2.0793946115798856, 'words': -1.01547003608618}</td>\n",
              "      <td id=\"T_3e5ec_row3_col5\" class=\"data row3 col5\" >False</td>\n",
              "    </tr>\n",
              "    <tr>\n",
              "      <th id=\"T_3e5ec_level0_row4\" class=\"row_heading level0 row4\" >4</th>\n",
              "      <td id=\"T_3e5ec_row4_col0\" class=\"data row4 col0\" >['bytes', 'runes']</td>\n",
              "      <td id=\"T_3e5ec_row4_col1\" class=\"data row4 col1\" >153.020134</td>\n",
              "      <td id=\"T_3e5ec_row4_col2\" class=\"data row4 col2\" >93.339443</td>\n",
              "      <td id=\"T_3e5ec_row4_col3\" class=\"data row4 col3\" >-3149.846818</td>\n",
              "      <td id=\"T_3e5ec_row4_col4\" class=\"data row4 col4\" >{'bytes': 0.8116921631312474, 'runes': -0.4754577744850986}</td>\n",
              "      <td id=\"T_3e5ec_row4_col5\" class=\"data row4 col5\" >False</td>\n",
              "    </tr>\n",
              "    <tr>\n",
              "      <th id=\"T_3e5ec_level0_row5\" class=\"row_heading level0 row5\" >5</th>\n",
              "      <td id=\"T_3e5ec_row5_col0\" class=\"data row5 col0\" >['runes']</td>\n",
              "      <td id=\"T_3e5ec_row5_col1\" class=\"data row5 col1\" >154.417959</td>\n",
              "      <td id=\"T_3e5ec_row5_col2\" class=\"data row5 col2\" >61.949713</td>\n",
              "      <td id=\"T_3e5ec_row5_col3\" class=\"data row5 col3\" >-6864.286276</td>\n",
              "      <td id=\"T_3e5ec_row5_col4\" class=\"data row5 col4\" >{'runes': 0.4623517853372125}</td>\n",
              "      <td id=\"T_3e5ec_row5_col5\" class=\"data row5 col5\" >False</td>\n",
              "    </tr>\n",
              "    <tr>\n",
              "      <th id=\"T_3e5ec_level0_row6\" class=\"row_heading level0 row6\" >6</th>\n",
              "      <td id=\"T_3e5ec_row6_col0\" class=\"data row6 col0\" >['bytes']</td>\n",
              "      <td id=\"T_3e5ec_row6_col1\" class=\"data row6 col1\" >154.600783</td>\n",
              "      <td id=\"T_3e5ec_row6_col2\" class=\"data row6 col2\" >75.950348</td>\n",
              "      <td id=\"T_3e5ec_row6_col3\" class=\"data row6 col3\" >-7013.629248</td>\n",
              "      <td id=\"T_3e5ec_row6_col4\" class=\"data row6 col4\" >{'bytes': 0.45419970834349976}</td>\n",
              "      <td id=\"T_3e5ec_row6_col5\" class=\"data row6 col5\" >False</td>\n",
              "    </tr>\n",
              "    <tr>\n",
              "      <th id=\"T_3e5ec_level0_row7\" class=\"row_heading level0 row7\" >7</th>\n",
              "      <td id=\"T_3e5ec_row7_col0\" class=\"data row7 col0\" >['bytes', 'lines', 'runes']</td>\n",
              "      <td id=\"T_3e5ec_row7_col1\" class=\"data row7 col1\" >154.611618</td>\n",
              "      <td id=\"T_3e5ec_row7_col2\" class=\"data row7 col2\" >76.195700</td>\n",
              "      <td id=\"T_3e5ec_row7_col3\" class=\"data row7 col3\" >-3312.972528</td>\n",
              "      <td id=\"T_3e5ec_row7_col4\" class=\"data row7 col4\" >{'bytes': 0.609438192728638, 'lines': 1.646896792144142, 'runes': -0.297719407260726}</td>\n",
              "      <td id=\"T_3e5ec_row7_col5\" class=\"data row7 col5\" >False</td>\n",
              "    </tr>\n",
              "    <tr>\n",
              "      <th id=\"T_3e5ec_level0_row8\" class=\"row_heading level0 row8\" >8</th>\n",
              "      <td id=\"T_3e5ec_row8_col0\" class=\"data row8 col0\" >['bytes', 'lines']</td>\n",
              "      <td id=\"T_3e5ec_row8_col1\" class=\"data row8 col1\" >156.455110</td>\n",
              "      <td id=\"T_3e5ec_row8_col2\" class=\"data row8 col2\" >56.226054</td>\n",
              "      <td id=\"T_3e5ec_row8_col3\" class=\"data row8 col3\" >-4639.179627</td>\n",
              "      <td id=\"T_3e5ec_row8_col4\" class=\"data row8 col4\" >{'bytes': 0.32704267646165747, 'lines': 3.0520632217181354}</td>\n",
              "      <td id=\"T_3e5ec_row8_col5\" class=\"data row8 col5\" >False</td>\n",
              "    </tr>\n",
              "    <tr>\n",
              "      <th id=\"T_3e5ec_level0_row9\" class=\"row_heading level0 row9\" >9</th>\n",
              "      <td id=\"T_3e5ec_row9_col0\" class=\"data row9 col0\" >['lines', 'runes']</td>\n",
              "      <td id=\"T_3e5ec_row9_col1\" class=\"data row9 col1\" >158.185256</td>\n",
              "      <td id=\"T_3e5ec_row9_col2\" class=\"data row9 col2\" >33.700029</td>\n",
              "      <td id=\"T_3e5ec_row9_col3\" class=\"data row9 col3\" >-4553.863149</td>\n",
              "      <td id=\"T_3e5ec_row9_col4\" class=\"data row9 col4\" >{'lines': 4.990709286666581, 'runes': 0.2928297823240975}</td>\n",
              "      <td id=\"T_3e5ec_row9_col5\" class=\"data row9 col5\" >False</td>\n",
              "    </tr>\n",
              "    <tr>\n",
              "      <th id=\"T_3e5ec_level0_row10\" class=\"row_heading level0 row10\" >10</th>\n",
              "      <td id=\"T_3e5ec_row10_col0\" class=\"data row10 col0\" >['lines', 'words']</td>\n",
              "      <td id=\"T_3e5ec_row10_col1\" class=\"data row10 col1\" >159.132879</td>\n",
              "      <td id=\"T_3e5ec_row10_col2\" class=\"data row10 col2\" >39.532647</td>\n",
              "      <td id=\"T_3e5ec_row10_col3\" class=\"data row10 col3\" >4068.436070</td>\n",
              "      <td id=\"T_3e5ec_row10_col4\" class=\"data row10 col4\" >{'lines': 6.687481731083345, 'words': 0.08824210855637687}</td>\n",
              "      <td id=\"T_3e5ec_row10_col5\" class=\"data row10 col5\" >False</td>\n",
              "    </tr>\n",
              "    <tr>\n",
              "      <th id=\"T_3e5ec_level0_row11\" class=\"row_heading level0 row11\" >11</th>\n",
              "      <td id=\"T_3e5ec_row11_col0\" class=\"data row11 col0\" >['lines', 'runes', 'words']</td>\n",
              "      <td id=\"T_3e5ec_row11_col1\" class=\"data row11 col1\" >159.802037</td>\n",
              "      <td id=\"T_3e5ec_row11_col2\" class=\"data row11 col2\" >-0.476926</td>\n",
              "      <td id=\"T_3e5ec_row11_col3\" class=\"data row11 col3\" >-3648.762784</td>\n",
              "      <td id=\"T_3e5ec_row11_col4\" class=\"data row11 col4\" >{'lines': 4.627626832942496, 'runes': 0.479567110353335, 'words': -1.1548870291775704}</td>\n",
              "      <td id=\"T_3e5ec_row11_col5\" class=\"data row11 col5\" >False</td>\n",
              "    </tr>\n",
              "    <tr>\n",
              "      <th id=\"T_3e5ec_level0_row12\" class=\"row_heading level0 row12\" >12</th>\n",
              "      <td id=\"T_3e5ec_row12_col0\" class=\"data row12 col0\" >['lines']</td>\n",
              "      <td id=\"T_3e5ec_row12_col1\" class=\"data row12 col1\" >160.904043</td>\n",
              "      <td id=\"T_3e5ec_row12_col2\" class=\"data row12 col2\" >37.086263</td>\n",
              "      <td id=\"T_3e5ec_row12_col3\" class=\"data row12 col3\" >4582.775750</td>\n",
              "      <td id=\"T_3e5ec_row12_col4\" class=\"data row12 col4\" >{'lines': 6.745228516407042}</td>\n",
              "      <td id=\"T_3e5ec_row12_col5\" class=\"data row12 col5\" >False</td>\n",
              "    </tr>\n",
              "    <tr>\n",
              "      <th id=\"T_3e5ec_level0_row13\" class=\"row_heading level0 row13\" >13</th>\n",
              "      <td id=\"T_3e5ec_row13_col0\" class=\"data row13 col0\" >['words']</td>\n",
              "      <td id=\"T_3e5ec_row13_col1\" class=\"data row13 col1\" >168.394009</td>\n",
              "      <td id=\"T_3e5ec_row13_col2\" class=\"data row13 col2\" >101.189199</td>\n",
              "      <td id=\"T_3e5ec_row13_col3\" class=\"data row13 col3\" >6071.372144</td>\n",
              "      <td id=\"T_3e5ec_row13_col4\" class=\"data row13 col4\" >{'words': 0.5643603738061856}</td>\n",
              "      <td id=\"T_3e5ec_row13_col5\" class=\"data row13 col5\" >False</td>\n",
              "    </tr>\n",
              "    <tr>\n",
              "      <th id=\"T_3e5ec_level0_row14\" class=\"row_heading level0 row14\" >14</th>\n",
              "      <td id=\"T_3e5ec_row14_col0\" class=\"data row14 col0\" >['runes', 'words']</td>\n",
              "      <td id=\"T_3e5ec_row14_col1\" class=\"data row14 col1\" >219.818537</td>\n",
              "      <td id=\"T_3e5ec_row14_col2\" class=\"data row14 col2\" >18.684588</td>\n",
              "      <td id=\"T_3e5ec_row14_col3\" class=\"data row14 col3\" >-5582.784325</td>\n",
              "      <td id=\"T_3e5ec_row14_col4\" class=\"data row14 col4\" >{'runes': 0.670609402341596, 'words': -1.3790600059133553}</td>\n",
              "      <td id=\"T_3e5ec_row14_col5\" class=\"data row14 col5\" >False</td>\n",
              "    </tr>\n",
              "  </tbody>\n",
              "</table>\n"
            ],
            "text/plain": [
              "<pandas.io.formats.style.Styler at 0x117fc7a10>"
            ]
          },
          "metadata": {},
          "output_type": "display_data"
        }
      ],
      "source": [
        "features = FEATURES\n",
        "\n",
        "# All non-empty subsets\n",
        "CANDIDATES = [\n",
        "    list(cols)\n",
        "    for r in range(1, len(features) + 1)\n",
        "    for cols in combinations(sorted(features), r)\n",
        "]\n",
        "\n",
        "abl_results = ols_ablations(train_df, test_df, CANDIDATES)\n",
        "df_abl = pd.DataFrame(abl_results)\n",
        "if not df_abl.empty:\n",
        "    df_abl = df_abl.sort_values('mae').reset_index(drop=True)\n",
        "    best_mae = df_abl['mae'].iloc[0]\n",
        "\n",
        "    df_abl['within_margin'] = ((df_abl['mae'] - best_mae) / best_mae) <= DECISION_MARGIN\n",
        "\n",
        "    def _bold_within_margin(row):\n",
        "        return ['font-weight: bold' if bool(row['within_margin']) else '' for _ in row]\n",
        "\n",
        "    styled = df_abl.style.apply(_bold_within_margin, axis=1)\n",
        "    display(styled)\n",
        "else:\n",
        "    print({'ablations': 'no results'})"
      ]
    },
    {
      "cell_type": "markdown",
      "id": "638f46b7",
      "metadata": {},
      "source": [
        "### Takeaways\n",
        "\n",
        "- Best subset on this split: bytes+words.\n",
        "- bytes+runes+words is within the decision margin (but prefer the simpler set unless a robust gain appears)."
      ]
    },
    {
      "cell_type": "markdown",
      "id": "5570880b",
      "metadata": {},
      "source": [
        "## Learning Curves"
      ]
    },
    {
      "cell_type": "markdown",
      "id": "9d98ef26",
      "metadata": {},
      "source": [
        "Learning curves for A (selected single feature) and B (OLS 4 features).\n",
        "\n",
        "Curves are computed only when `N_GRID` points do not exceed the available training size. When skipped on small datasets, interpret this as \"insufficient sample sizes to form a meaningful curve\"; with more data, expect MAE to decrease and variance bands to tighten as `n` grows."
      ]
    },
    {
      "cell_type": "code",
      "execution_count": 7,
      "id": "927199b1",
      "metadata": {},
      "outputs": [
        {
          "name": "stdout",
          "output_type": "stream",
          "text": [
            "{'learning_curve_feature_B': ('bytes', 'words')}\n",
            "{'cv_splits_lc': 5, 'cv_repeats': 5}\n",
            "{'learning_curve_feature_A': 'bytes', 'fit_intercept_A': True}\n"
          ]
        },
        {
          "data": {
            "text/html": [
              "<div>\n",
              "<style scoped>\n",
              "    .dataframe tbody tr th:only-of-type {\n",
              "        vertical-align: middle;\n",
              "    }\n",
              "\n",
              "    .dataframe tbody tr th {\n",
              "        vertical-align: top;\n",
              "    }\n",
              "\n",
              "    .dataframe thead th {\n",
              "        text-align: right;\n",
              "    }\n",
              "</style>\n",
              "<table border=\"1\" class=\"dataframe\">\n",
              "  <thead>\n",
              "    <tr style=\"text-align: right;\">\n",
              "      <th></th>\n",
              "      <th>n</th>\n",
              "      <th>A_mae</th>\n",
              "      <th>A_lo</th>\n",
              "      <th>A_hi</th>\n",
              "      <th>B_mae</th>\n",
              "      <th>B_lo</th>\n",
              "      <th>B_hi</th>\n",
              "      <th>A_rel_hw</th>\n",
              "      <th>B_rel_hw</th>\n",
              "    </tr>\n",
              "  </thead>\n",
              "  <tbody>\n",
              "    <tr>\n",
              "      <th>0</th>\n",
              "      <td>5</td>\n",
              "      <td>252.739584</td>\n",
              "      <td>191.128193</td>\n",
              "      <td>324.533516</td>\n",
              "      <td>180.627420</td>\n",
              "      <td>149.553283</td>\n",
              "      <td>217.115621</td>\n",
              "      <td>0.006921</td>\n",
              "      <td>0.003505</td>\n",
              "    </tr>\n",
              "    <tr>\n",
              "      <th>1</th>\n",
              "      <td>10</td>\n",
              "      <td>196.616322</td>\n",
              "      <td>152.510422</td>\n",
              "      <td>244.352129</td>\n",
              "      <td>181.121847</td>\n",
              "      <td>135.912631</td>\n",
              "      <td>228.672915</td>\n",
              "      <td>0.004765</td>\n",
              "      <td>0.004812</td>\n",
              "    </tr>\n",
              "    <tr>\n",
              "      <th>2</th>\n",
              "      <td>15</td>\n",
              "      <td>180.979082</td>\n",
              "      <td>148.333540</td>\n",
              "      <td>214.662164</td>\n",
              "      <td>163.735154</td>\n",
              "      <td>135.159423</td>\n",
              "      <td>193.943243</td>\n",
              "      <td>0.003441</td>\n",
              "      <td>0.003050</td>\n",
              "    </tr>\n",
              "    <tr>\n",
              "      <th>3</th>\n",
              "      <td>20</td>\n",
              "      <td>166.039782</td>\n",
              "      <td>137.973713</td>\n",
              "      <td>192.805772</td>\n",
              "      <td>144.212212</td>\n",
              "      <td>122.907007</td>\n",
              "      <td>165.785021</td>\n",
              "      <td>0.002845</td>\n",
              "      <td>0.002225</td>\n",
              "    </tr>\n",
              "  </tbody>\n",
              "</table>\n",
              "</div>"
            ],
            "text/plain": [
              "    n       A_mae        A_lo        A_hi       B_mae        B_lo        B_hi  \\\n",
              "0   5  252.739584  191.128193  324.533516  180.627420  149.553283  217.115621   \n",
              "1  10  196.616322  152.510422  244.352129  181.121847  135.912631  228.672915   \n",
              "2  15  180.979082  148.333540  214.662164  163.735154  135.159423  193.943243   \n",
              "3  20  166.039782  137.973713  192.805772  144.212212  122.907007  165.785021   \n",
              "\n",
              "   A_rel_hw  B_rel_hw  \n",
              "0  0.006921  0.003505  \n",
              "1  0.004765  0.004812  \n",
              "2  0.003441  0.003050  \n",
              "3  0.002845  0.002225  "
            ]
          },
          "metadata": {},
          "output_type": "display_data"
        },
        {
          "data": {
            "image/png": "[encoded data removed]",
            "text/plain": [
              "<Figure size 700x500 with 1 Axes>"
            ]
          },
          "metadata": {},
          "output_type": "display_data"
        }
      ],
      "source": [
        "features_list = FEATURES\n",
        "rows = []\n",
        "for feat in features_list:\n",
        "    Xtr_feat = train_df[[feat]].to_numpy()\n",
        "    ytr = train_df['input_tokens'].to_numpy()\n",
        "    for fi in (False, True):\n",
        "        mae_cv, bias_cv = cv_single_feature(Xtr_feat, ytr, fit_intercept=fi, n_splits=CV_SPLITS_A_DEFAULT, seed=SEED)\n",
        "        rows.append({'feature': feat, 'fit_intercept': fi, 'cv_mae': mae_cv, 'cv_bias': bias_cv})\n",
        "cv_df = pd.DataFrame(rows).sort_values(['cv_mae', 'feature', 'fit_intercept']).reset_index(drop=True)\n",
        "best_cv = select_best(cv_df)\n",
        "feat = best_cv['feature']\n",
        "fi = bool(best_cv['fit_intercept'])\n",
        "\n",
        "# Pre-filter N_GRID\n",
        "N_GRID_filtered = [int(n) for n in N_GRID if int(n) <= len(train_df)]\n",
        "if not N_GRID_filtered:\n",
        "    print({'learning_curves': 'skipped', 'reason': 'n_grid > len(train_df)', 'len_train_df': int(len(train_df)), 'N_GRID': list(N_GRID)})\n",
        "    display(Markdown(\"Learning curves skipped (grid > train size). With more data, expect MAE to decrease and confidence bands to tighten.\"))\n",
        "else:\n",
        "    # Determine feature_B for learning curve: use best subset from ablations if available\n",
        "    if 'df_abl' in globals() and isinstance(df_abl, pd.DataFrame) and not df_abl.empty and 'cols' in df_abl.columns:\n",
        "        feature_B_cols = tuple(df_abl.loc[0, 'cols'])\n",
        "    else:\n",
        "        feature_B_cols = ('bytes','runes','words','lines')\n",
        "    print({'learning_curve_feature_B': feature_B_cols})\n",
        "    # Ensure CV splits are valid for the smallest n in the grid\n",
        "    cv_splits_lc = max(2, min(CV_SPLITS, min(N_GRID_filtered)))\n",
        "    print({'cv_splits_lc': cv_splits_lc, 'cv_repeats': CV_REPEATS})\n",
        "    lc_df = learning_curve(\n",
        "        train_df,\n",
        "        n_grid=N_GRID_filtered,\n",
        "        feature_A=(feat,),\n",
        "        feature_B=feature_B_cols,\n",
        "        seed=SEED,\n",
        "        cv_splits=cv_splits_lc,\n",
        "        cv_repeats=CV_REPEATS,\n",
        "        boot_B=BOOT_B,\n",
        "        fit_intercept_A=fi,\n",
        "    )\n",
        "    print({'learning_curve_feature_A': feat, 'fit_intercept_A': fi})\n",
        "\n",
        "    if lc_df is not None and not lc_df.empty:\n",
        "        display(lc_df)\n",
        "        ax = plot_learning_curve(lc_df)\n",
        "        ax.set_title(f'Learning curves with {cv_splits_lc}x{CV_REPEATS} CV and bootstrap CIs')\n",
        "        handles, _ = ax.get_legend_handles_labels()\n",
        "        ax.legend(handles, ['A (bytes + intercept)', f'B (OLS: {\",\".join(feature_B_cols)})'])\n",
        "    else:\n",
        "        print({'learning_curves': 'skipped_or_empty'})"
      ]
    },
    {
      "cell_type": "markdown",
      "id": "fa2125bc",
      "metadata": {},
      "source": [
        "### Takeaways\n",
        "\n",
        "- MAE decreases for both A and B as n increases, consistent with expected learning behaviour."
      ]
    },
    {
      "cell_type": "markdown",
      "id": "0cb1fade",
      "metadata": {},
      "source": [
        "## Coefficient Checks"
      ]
    },
    {
      "cell_type": "markdown",
      "id": "2cb4afd4",
      "metadata": {},
      "source": [
        "Sanity flags on best B model and coefficient recovery demos."
      ]
    },
    {
      "cell_type": "code",
      "execution_count": 8,
      "id": "17b14f96",
      "metadata": {},
      "outputs": [
        {
          "name": "stdout",
          "output_type": "stream",
          "text": [
            "{'best_subset_cols': ['bytes', 'words']}\n",
            "{'ols_subset_flags': {'negative_bytes': False, 'negative_runes': False, 'notes': []}}\n",
            "{'ols_subset_coef_recovery_check': True, 'max_abs_diff': 0.0}\n"
          ]
        }
      ],
      "source": [
        "# Determine best subset\n",
        "best_cols = None\n",
        "best_res = None\n",
        "\n",
        "# Prefer the ablations table if it exists\n",
        "if 'df_abl' in globals() and isinstance(df_abl, pd.DataFrame) and not df_abl.empty:\n",
        "    best_cols = df_abl.loc[0, 'cols'] if 'cols' in df_abl.columns else None\n",
        "\n",
        "# Fallback: recompute best subset by test MAE\n",
        "if best_cols is None:\n",
        "    features = FEATURES\n",
        "    best_mae = np.inf\n",
        "    for r in range(1, len(features) + 1):\n",
        "        for cols in combinations(sorted(features), r):\n",
        "            Xtr = train_df[list(cols)].to_numpy()\n",
        "            ytr = train_df['input_tokens'].to_numpy()\n",
        "            Xte = test_df[list(cols)].to_numpy()\n",
        "            yte = test_df['input_tokens'].to_numpy()\n",
        "            lr = LinearRegression(fit_intercept=True)\n",
        "            lr.fit(Xtr, ytr)\n",
        "            pte = lr.predict(Xte)\n",
        "            mae = float(np.mean(np.abs(yte - pte)))\n",
        "            if mae < best_mae:\n",
        "                best_mae = mae\n",
        "                best_res = {\n",
        "                    'cols': list(cols),\n",
        "                    'intercept': float(lr.intercept_),\n",
        "                    'coefs': dict(zip(list(cols), map(float, lr.coef_))),\n",
        "                    'pred': pte,\n",
        "                }\n",
        "    best_cols = best_res['cols']\n",
        "    intercept = best_res['intercept']\n",
        "    coefs = best_res['coefs']\n",
        "    pred = best_res['pred']\n",
        "else:\n",
        "    # Refit on best_cols to capture exact coefficients and predictions\n",
        "    Xtr = train_df[best_cols].to_numpy()\n",
        "    ytr = train_df['input_tokens'].to_numpy()\n",
        "    Xte = test_df[best_cols].to_numpy()\n",
        "    lr = LinearRegression(fit_intercept=True)\n",
        "    lr.fit(Xtr, ytr)\n",
        "    pred = lr.predict(Xte)\n",
        "    intercept = float(lr.intercept_)\n",
        "    coefs = dict(zip(best_cols, map(float, lr.coef_)))\n",
        "\n",
        "print({'best_subset_cols': best_cols})\n",
        "\n",
        "flags = coef_sanity_checks(coefs)\n",
        "print({'ols_subset_flags': flags})\n",
        "\n",
        "coef_order = sorted(coefs.keys())\n",
        "Xte = test_df[coef_order].to_numpy()\n",
        "coef_vec = np.array([coefs[k] for k in coef_order], dtype=float)\n",
        "manual_pred = intercept + Xte @ coef_vec\n",
        "ok = np.allclose(manual_pred, pred, atol=1e-6)\n",
        "max_diff = float(np.max(np.abs(manual_pred - pred)))\n",
        "print({'ols_subset_coef_recovery_check': bool(ok), 'max_abs_diff': max_diff})"
      ]
    },
    {
      "cell_type": "markdown",
      "id": "f149b486",
      "metadata": {},
      "source": [
        "### Takeaways\n",
        "\n",
        "- Sanity flags are clear; manual reconstruction matches predictions.\n",
        "- Linear model behavior verified on this split."
      ]
    },
    {
      "cell_type": "markdown",
      "id": "fa0e1894",
      "metadata": {},
      "source": [
        "## Reproducibility\n",
        "\n",
        "Library versions for reference (see below)."
      ]
    },
    {
      "cell_type": "code",
      "execution_count": 9,
      "id": "e20f0078",
      "metadata": {},
      "outputs": [
        {
          "data": {
            "text/markdown": [
              "Library versions:\n",
              "- numpy: 2.3.4\n",
              "- pandas: 2.3.3\n",
              "- sklearn: 1.7.2"
            ],
            "text/plain": [
              "<IPython.core.display.Markdown object>"
            ]
          },
          "metadata": {},
          "output_type": "display_data"
        }
      ],
      "source": [
        "display(Markdown(f\"\"\"Library versions:\\n{'\\n'.join([f'- {k}: {v}' for k, v in {'numpy': np.__version__, 'pandas': pd.__version__, 'sklearn': sklearn.__version__}.items()])}\"\"\"))"
      ]
    }
  ],
  "metadata": {
    "kernelspec": {
      "display_name": " (.venv) token-approx (Python 3.13.5)",
      "language": "python",
      "name": "token-approx"
    },
    "language_info": {
      "codemirror_mode": {
        "name": "ipython",
        "version": 3
      },
      "file_extension": ".py",
      "mimetype": "text/x-python",
      "name": "python",
      "nbconvert_exporter": "python",
      "pygments_lexer": "ipython3",
      "version": "3.13.5"
    }
  },
  "nbformat": 4,
  "nbformat_minor": 5
}
