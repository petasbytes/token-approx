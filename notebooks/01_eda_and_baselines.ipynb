{
  "cells": [
    {
      "cell_type": "markdown",
      "id": "c32bfc89",
      "metadata": {},
      "source": [
        "# Token Approximation — EDA and Baselines\n",
        "\n",
        "Concise analysis and baseline models to approximate input token counts from local text features.\n",
        "\n",
        "Technical depth (ablations, diagnostics, learning curves) is in `02_appendix_diagnostics.ipynb`.\n",
        "\n",
        "## Overview and Hypothesis\n",
        "\n",
        "- Hypothesis: Local text features (bytes, runes, words, lines) can approximate provider language model input token counts.\n",
        "- Why it matters: Enables local budgeting without remote tokenizers, helpful for throughput, cost, and context management.\n",
        "- Approach: Benchmark a simple single-feature baseline versus multifeature linear models with regularization; report held-out test performance plus train-CV stability.\n",
        "- Scope: Token counts are tokenizer- and language model-specific; external validity may vary.\n",
        "- Terminology: “runes” = Unicode code points; features used: bytes, runes, words, lines.\n",
        "\n",
        "## Data\n",
        "\n",
        "- Data source: `data/processed/features/features.jsonl` produced by the Go features runner over sample texts.\n",
        "- Columns: `bytes`, `runes` (Unicode code points), `words`, `lines`, `input_tokens`, `model`, `source_path`."
      ]
    },
    {
      "cell_type": "markdown",
      "id": "1998b8a5",
      "metadata": {},
      "source": [
        "### Imports"
      ]
    },
    {
      "cell_type": "code",
      "execution_count": 1,
      "id": "e556f908",
      "metadata": {},
      "outputs": [],
      "source": [
        "from pathlib import Path\n",
        "\n",
        "import numpy as np\n",
        "import pandas as pd\n",
        "import seaborn as sns\n",
        "import sklearn\n",
        "from IPython.display import display, Markdown\n",
        "from sklearn.linear_model import ElasticNet, LinearRegression, Ridge\n",
        "from sklearn.model_selection import train_test_split\n",
        "from sklearn.pipeline import Pipeline\n",
        "from sklearn.preprocessing import StandardScaler\n",
        "\n",
        "from utils import (\n",
        "    SEED as SEED_DEFAULT, N_GRID_DEFAULT, MAPE_THRESHOLD_DEFAULT, DECISION_MARGIN_DEFAULT, CV_SPLITS_A_DEFAULT, CV_SPLITS_DEFAULT, CV_REPEATS_DEFAULT, BOOT_B_DEFAULT, FEATURES,\n",
        "    load_records, validate_records, corr_heatmap, cv_single_feature, select_best, fit_single_feature, approach_b_ridge_cv, approach_b_elasticnet_cv, summarize_and_decide, repeated_cv_mae, bootstrap_mae_ci, export_single_feature, export_linear_multifeature, coef_sanity_checks, best_subset_ols, abs_error_stats, plot_abs_error_hist, mape_filtered, scatter_grid_regplot, resolve_chosen_predictions,\n",
        ")\n",
        "\n",
        "pd.set_option('display.max_columns', 50)\n",
        "pd.set_option('display.width', 120)"
      ]
    },
    {
      "cell_type": "markdown",
      "id": "20b46569",
      "metadata": {},
      "source": [
        "### Configuration"
      ]
    },
    {
      "cell_type": "code",
      "execution_count": 2,
      "id": "1546d00b",
      "metadata": {},
      "outputs": [
        {
          "data": {
            "text/markdown": [
              "Constants set for this run:\n",
              "- `SEED`=`42`\n",
              "- `DECISION_MARGIN`=`0.03`\n",
              "- `MAPE_THRESHOLD`=`50`\n",
              "- `CV_SPLITS` x `CV_REPEATS`=`10` x `5`\n"
            ],
            "text/plain": [
              "<IPython.core.display.Markdown object>"
            ]
          },
          "metadata": {},
          "output_type": "display_data"
        }
      ],
      "source": [
        "# Defaults can be overridden as needed\n",
        "SEED = SEED_DEFAULT  # random seed for splits/CV\n",
        "N_GRID = N_GRID_DEFAULT  # learning-curve grid\n",
        "MAPE_THRESHOLD = MAPE_THRESHOLD_DEFAULT  # floor for computing MAPE\n",
        "DECISION_MARGIN = DECISION_MARGIN_DEFAULT  # min relative MAE gain to pick B over A\n",
        "CV_SPLITS_A = CV_SPLITS_A_DEFAULT  # folds for A-selection CV\n",
        "CV_SPLITS = CV_SPLITS_DEFAULT  # folds for stability CV + learning curves\n",
        "CV_REPEATS = CV_REPEATS_DEFAULT  # repeats for stability CV\n",
        "BOOT_B = BOOT_B_DEFAULT  # bootstrap resamples\n",
        "MODEL_NAME = \"claude-3-7-sonnet-latest\"  # tokenizer/model scope\n",
        "\n",
        "display(Markdown(\n",
        "    f\"\"\"Constants set for this run:\n",
        "- `SEED`=`{SEED}`\n",
        "- `DECISION_MARGIN`=`{DECISION_MARGIN}`\n",
        "- `MAPE_THRESHOLD`=`{MAPE_THRESHOLD}`\n",
        "- `CV_SPLITS` x `CV_REPEATS`=`{CV_SPLITS}` x `{CV_REPEATS}`\n",
        "\"\"\"\n",
        "))"
      ]
    },
    {
      "cell_type": "markdown",
      "id": "2a9f2894",
      "metadata": {},
      "source": [
        "### Load and Validate Data"
      ]
    },
    {
      "cell_type": "code",
      "execution_count": 3,
      "id": "56512b60",
      "metadata": {},
      "outputs": [
        {
          "name": "stdout",
          "output_type": "stream",
          "text": [
            "{'features_path': '/Users/peta/Documents/dev/token-approx/data/processed/features/features.jsonl'}\n",
            "{'total_before': 25, 'drops': {'input_tokens_na': 0, 'bytes_non_numeric_or_na': 0, 'runes_non_numeric_or_na': 0, 'words_non_numeric_or_na': 0, 'lines_non_numeric_or_na': 0}, 'total_after': 25}\n"
          ]
        },
        {
          "data": {
            "text/html": [
              "<div>\n",
              "<style scoped>\n",
              "    .dataframe tbody tr th:only-of-type {\n",
              "        vertical-align: middle;\n",
              "    }\n",
              "\n",
              "    .dataframe tbody tr th {\n",
              "        vertical-align: top;\n",
              "    }\n",
              "\n",
              "    .dataframe thead th {\n",
              "        text-align: right;\n",
              "    }\n",
              "</style>\n",
              "<table border=\"1\" class=\"dataframe\">\n",
              "  <thead>\n",
              "    <tr style=\"text-align: right;\">\n",
              "      <th></th>\n",
              "      <th>bytes</th>\n",
              "      <th>runes</th>\n",
              "      <th>words</th>\n",
              "      <th>lines</th>\n",
              "      <th>input_tokens</th>\n",
              "      <th>model</th>\n",
              "      <th>source_path</th>\n",
              "    </tr>\n",
              "  </thead>\n",
              "  <tbody>\n",
              "    <tr>\n",
              "      <th>0</th>\n",
              "      <td>36027</td>\n",
              "      <td>35491</td>\n",
              "      <td>6086</td>\n",
              "      <td>702</td>\n",
              "      <td>9566</td>\n",
              "      <td>claude-3-7-sonnet-latest</td>\n",
              "      <td>poc_token_approx/input/samples/oliver-twist_gb...</td>\n",
              "    </tr>\n",
              "    <tr>\n",
              "      <th>1</th>\n",
              "      <td>36733</td>\n",
              "      <td>35737</td>\n",
              "      <td>6209</td>\n",
              "      <td>747</td>\n",
              "      <td>9702</td>\n",
              "      <td>claude-3-7-sonnet-latest</td>\n",
              "      <td>poc_token_approx/input/samples/oliver-twist_gb...</td>\n",
              "    </tr>\n",
              "    <tr>\n",
              "      <th>2</th>\n",
              "      <td>36961</td>\n",
              "      <td>35965</td>\n",
              "      <td>6199</td>\n",
              "      <td>735</td>\n",
              "      <td>9798</td>\n",
              "      <td>claude-3-7-sonnet-latest</td>\n",
              "      <td>poc_token_approx/input/samples/oliver-twist_gb...</td>\n",
              "    </tr>\n",
              "    <tr>\n",
              "      <th>3</th>\n",
              "      <td>36649</td>\n",
              "      <td>35953</td>\n",
              "      <td>6438</td>\n",
              "      <td>719</td>\n",
              "      <td>9552</td>\n",
              "      <td>claude-3-7-sonnet-latest</td>\n",
              "      <td>poc_token_approx/input/samples/oliver-twist_gb...</td>\n",
              "    </tr>\n",
              "    <tr>\n",
              "      <th>4</th>\n",
              "      <td>36572</td>\n",
              "      <td>35584</td>\n",
              "      <td>6297</td>\n",
              "      <td>776</td>\n",
              "      <td>9536</td>\n",
              "      <td>claude-3-7-sonnet-latest</td>\n",
              "      <td>poc_token_approx/input/samples/oliver-twist_gb...</td>\n",
              "    </tr>\n",
              "  </tbody>\n",
              "</table>\n",
              "</div>"
            ],
            "text/plain": [
              "   bytes  runes  words  lines  input_tokens                     model  \\\n",
              "0  36027  35491   6086    702          9566  claude-3-7-sonnet-latest   \n",
              "1  36733  35737   6209    747          9702  claude-3-7-sonnet-latest   \n",
              "2  36961  35965   6199    735          9798  claude-3-7-sonnet-latest   \n",
              "3  36649  35953   6438    719          9552  claude-3-7-sonnet-latest   \n",
              "4  36572  35584   6297    776          9536  claude-3-7-sonnet-latest   \n",
              "\n",
              "                                         source_path  \n",
              "0  poc_token_approx/input/samples/oliver-twist_gb...  \n",
              "1  poc_token_approx/input/samples/oliver-twist_gb...  \n",
              "2  poc_token_approx/input/samples/oliver-twist_gb...  \n",
              "3  poc_token_approx/input/samples/oliver-twist_gb...  \n",
              "4  poc_token_approx/input/samples/oliver-twist_gb...  "
            ]
          },
          "execution_count": 3,
          "metadata": {},
          "output_type": "execute_result"
        }
      ],
      "source": [
        "base = Path('..').resolve()\n",
        "features_path = base / 'data' / 'processed' / 'features' / 'features.jsonl'\n",
        "print({'features_path': str(features_path)})\n",
        "\n",
        "df = load_records(features_path)\n",
        "df = validate_records(df)\n",
        "print(df.attrs.get('validation_info', {}))\n",
        "df.head()"
      ]
    },
    {
      "cell_type": "markdown",
      "id": "e58cab6c",
      "metadata": {},
      "source": [
        "## Exploratory Visuals"
      ]
    },
    {
      "cell_type": "code",
      "execution_count": 4,
      "id": "e552ed9e",
      "metadata": {},
      "outputs": [
        {
          "data": {
            "image/png": "[encoded data removed]",
            "text/plain": [
              "<Figure size 1000x800 with 4 Axes>"
            ]
          },
          "metadata": {},
          "output_type": "display_data"
        },
        {
          "data": {
            "image/png": "[encoded data removed]",
            "text/plain": [
              "<Figure size 600x500 with 2 Axes>"
            ]
          },
          "metadata": {},
          "output_type": "display_data"
        }
      ],
      "source": [
        "sns.set_theme(style='whitegrid')\n",
        "\n",
        "pairs = [\n",
        "    ('runes', 'input_tokens'),\n",
        "    ('bytes', 'input_tokens'),\n",
        "    ('words', 'input_tokens'),\n",
        "    ('lines', 'input_tokens'),\n",
        "]\n",
        "_ = scatter_grid_regplot(\n",
        "    df,\n",
        "    pairs=pairs,\n",
        "    figsize=(10, 8),\n",
        "    scatter_kws={'s': 20, 'alpha': 0.8},\n",
        "    line_kws={'color': 'orange'},\n",
        ")\n",
        "\n",
        "ax = corr_heatmap(df)"
      ]
    },
    {
      "cell_type": "markdown",
      "id": "2e32801b",
      "metadata": {},
      "source": [
        "### Takeaways\n",
        "\n",
        "- Strong linear trends between input tokens and bytes/runes.\n",
        "- Features are correlated; multicollinearity likely → regularization/subset selection is appropriate."
      ]
    },
    {
      "cell_type": "markdown",
      "id": "ea4b8e71",
      "metadata": {},
      "source": [
        "## Approach A — Single-Feature Linear Regression: CV Selection\n",
        "\n",
        "Train: CV to select feature/intercept. Evaluate on a held‑out test split.\n",
        "\n",
        "MAE is the headline metric. MAPE is reported only when `y`>=`MAPE_THRESHOLD` to avoid instability on small targets.\n",
        "\n",
        "Single-feature baseline calibrates expectations before multi-feature models"
      ]
    },
    {
      "cell_type": "code",
      "execution_count": 5,
      "id": "60ff070d",
      "metadata": {},
      "outputs": [
        {
          "data": {
            "text/markdown": [
              "#### CV results (train) (Approach A)"
            ],
            "text/plain": [
              "<IPython.core.display.Markdown object>"
            ]
          },
          "metadata": {},
          "output_type": "display_data"
        },
        {
          "data": {
            "text/html": [
              "<div>\n",
              "<style scoped>\n",
              "    .dataframe tbody tr th:only-of-type {\n",
              "        vertical-align: middle;\n",
              "    }\n",
              "\n",
              "    .dataframe tbody tr th {\n",
              "        vertical-align: top;\n",
              "    }\n",
              "\n",
              "    .dataframe thead th {\n",
              "        text-align: right;\n",
              "    }\n",
              "</style>\n",
              "<table border=\"1\" class=\"dataframe\">\n",
              "  <thead>\n",
              "    <tr style=\"text-align: right;\">\n",
              "      <th></th>\n",
              "      <th>feature</th>\n",
              "      <th>fit_intercept</th>\n",
              "      <th>cv_mae</th>\n",
              "      <th>cv_bias</th>\n",
              "    </tr>\n",
              "  </thead>\n",
              "  <tbody>\n",
              "    <tr>\n",
              "      <th>0</th>\n",
              "      <td>bytes</td>\n",
              "      <td>True</td>\n",
              "      <td>144.427594</td>\n",
              "      <td>7.752838</td>\n",
              "    </tr>\n",
              "    <tr>\n",
              "      <th>1</th>\n",
              "      <td>bytes</td>\n",
              "      <td>False</td>\n",
              "      <td>169.869769</td>\n",
              "      <td>-1.329659</td>\n",
              "    </tr>\n",
              "    <tr>\n",
              "      <th>2</th>\n",
              "      <td>runes</td>\n",
              "      <td>False</td>\n",
              "      <td>201.408403</td>\n",
              "      <td>-0.881323</td>\n",
              "    </tr>\n",
              "    <tr>\n",
              "      <th>3</th>\n",
              "      <td>lines</td>\n",
              "      <td>True</td>\n",
              "      <td>207.923194</td>\n",
              "      <td>-19.519454</td>\n",
              "    </tr>\n",
              "    <tr>\n",
              "      <th>4</th>\n",
              "      <td>runes</td>\n",
              "      <td>True</td>\n",
              "      <td>245.207236</td>\n",
              "      <td>-56.612640</td>\n",
              "    </tr>\n",
              "    <tr>\n",
              "      <th>5</th>\n",
              "      <td>lines</td>\n",
              "      <td>False</td>\n",
              "      <td>273.942573</td>\n",
              "      <td>7.287553</td>\n",
              "    </tr>\n",
              "    <tr>\n",
              "      <th>6</th>\n",
              "      <td>words</td>\n",
              "      <td>False</td>\n",
              "      <td>274.350196</td>\n",
              "      <td>1.557482</td>\n",
              "    </tr>\n",
              "    <tr>\n",
              "      <th>7</th>\n",
              "      <td>words</td>\n",
              "      <td>True</td>\n",
              "      <td>283.337983</td>\n",
              "      <td>-18.730074</td>\n",
              "    </tr>\n",
              "  </tbody>\n",
              "</table>\n",
              "</div>"
            ],
            "text/plain": [
              "  feature  fit_intercept      cv_mae    cv_bias\n",
              "0   bytes           True  144.427594   7.752838\n",
              "1   bytes          False  169.869769  -1.329659\n",
              "2   runes          False  201.408403  -0.881323\n",
              "3   lines           True  207.923194 -19.519454\n",
              "4   runes           True  245.207236 -56.612640\n",
              "5   lines          False  273.942573   7.287553\n",
              "6   words          False  274.350196   1.557482\n",
              "7   words           True  283.337983 -18.730074"
            ]
          },
          "metadata": {},
          "output_type": "display_data"
        },
        {
          "data": {
            "text/markdown": [
              "#### Held-out Test Results (Approach A)"
            ],
            "text/plain": [
              "<IPython.core.display.Markdown object>"
            ]
          },
          "metadata": {},
          "output_type": "display_data"
        },
        {
          "data": {
            "text/html": [
              "<div>\n",
              "<style scoped>\n",
              "    .dataframe tbody tr th:only-of-type {\n",
              "        vertical-align: middle;\n",
              "    }\n",
              "\n",
              "    .dataframe tbody tr th {\n",
              "        vertical-align: top;\n",
              "    }\n",
              "\n",
              "    .dataframe thead th {\n",
              "        text-align: right;\n",
              "    }\n",
              "</style>\n",
              "<table border=\"1\" class=\"dataframe\">\n",
              "  <thead>\n",
              "    <tr style=\"text-align: right;\">\n",
              "      <th></th>\n",
              "      <th>stage</th>\n",
              "      <th>feature</th>\n",
              "      <th>fit_intercept</th>\n",
              "      <th>test_mae</th>\n",
              "      <th>test_bias</th>\n",
              "      <th>MAPE_after_filter</th>\n",
              "      <th>MAPE_after_filter_pct</th>\n",
              "    </tr>\n",
              "  </thead>\n",
              "  <tbody>\n",
              "    <tr>\n",
              "      <th>0</th>\n",
              "      <td>A_single_feature_test</td>\n",
              "      <td>bytes</td>\n",
              "      <td>True</td>\n",
              "      <td>154.600783</td>\n",
              "      <td>75.950348</td>\n",
              "      <td>0.01585</td>\n",
              "      <td>1.584973</td>\n",
              "    </tr>\n",
              "  </tbody>\n",
              "</table>\n",
              "</div>"
            ],
            "text/plain": [
              "                   stage feature  fit_intercept    test_mae  test_bias  MAPE_after_filter  MAPE_after_filter_pct\n",
              "0  A_single_feature_test   bytes           True  154.600783  75.950348            0.01585               1.584973"
            ]
          },
          "metadata": {},
          "output_type": "display_data"
        }
      ],
      "source": [
        "train_df, test_df = train_test_split(df, test_size=0.2, random_state=SEED)\n",
        "\n",
        "# CV across single features and intercept options\n",
        "features_list = FEATURES\n",
        "rows = []\n",
        "for feat in features_list:\n",
        "    Xtr_feat = train_df[[feat]].to_numpy()\n",
        "    ytr = train_df['input_tokens'].to_numpy()\n",
        "    for fi in (False, True):\n",
        "        mae_cv, bias_cv = cv_single_feature(Xtr_feat, ytr, fit_intercept=fi, n_splits=CV_SPLITS_A, seed=SEED)\n",
        "        rows.append({'feature': feat, 'fit_intercept': fi, 'cv_mae': mae_cv, 'cv_bias': bias_cv})\n",
        "cv_results = pd.DataFrame(rows).sort_values(['cv_mae', 'feature', 'fit_intercept']).reset_index(drop=True)\n",
        "\n",
        "best_cv = select_best(cv_results)\n",
        "res_a = fit_single_feature(train_df, test_df, feature=best_cv['feature'], fit_intercept=bool(best_cv['fit_intercept']))\n",
        "\n",
        "display(Markdown('#### CV results (train) (Approach A)'))\n",
        "display(cv_results)\n",
        "\n",
        "y_true_sf = res_a['yte']\n",
        "y_pred_sf = res_a['pred']\n",
        "mape = mape_filtered(y_true_sf, y_pred_sf, threshold=MAPE_THRESHOLD)\n",
        "\n",
        "display(Markdown('#### Held-out Test Results (Approach A)'))\n",
        "display(pd.DataFrame([{\n",
        "    'stage': 'A_single_feature_test',\n",
        "    'feature': res_a['feature'],\n",
        "    'fit_intercept': res_a['fit_intercept'],\n",
        "    'test_mae': res_a['test_mae'],\n",
        "    'test_bias': res_a['test_bias'],\n",
        "    'MAPE_after_filter': mape,\n",
        "    'MAPE_after_filter_pct': None if mape is None else 100*mape,\n",
        "}]))"
      ]
    },
    {
      "cell_type": "markdown",
      "id": "d06619ef",
      "metadata": {},
      "source": [
        "## Approach B — Multi-Feature Linear Regression: OLS-best-subset; Ridge/ElasticNet via CV\n",
        "\n",
        "Train: OLS subset search; Ridge/ElasticNet via CV. Evaluate on a held‑out test split."
      ]
    },
    {
      "cell_type": "code",
      "execution_count": 6,
      "id": "ae7a502f",
      "metadata": {},
      "outputs": [
        {
          "data": {
            "text/markdown": [
              "### Held‑out Test Results (Approach B finalists)"
            ],
            "text/plain": [
              "<IPython.core.display.Markdown object>"
            ]
          },
          "metadata": {},
          "output_type": "display_data"
        },
        {
          "data": {
            "text/markdown": [
              "_Each row is the best candidate for its family (OLS best subset; Ridge and ElasticNet with CV-selected hyperparameters)._"
            ],
            "text/plain": [
              "<IPython.core.display.Markdown object>"
            ]
          },
          "metadata": {},
          "output_type": "display_data"
        },
        {
          "data": {
            "text/html": [
              "<style type=\"text/css\">\n",
              "#T_829ec_row0_col0, #T_829ec_row0_col1, #T_829ec_row0_col2, #T_829ec_row0_col3, #T_829ec_row0_col4, #T_829ec_row0_col5, #T_829ec_row0_col6, #T_829ec_row0_col7, #T_829ec_row0_col8 {\n",
              "  font-weight: bold;\n",
              "  background-color: #1e3a8a22;\n",
              "}\n",
              "</style>\n",
              "<table id=\"T_829ec\">\n",
              "  <thead>\n",
              "    <tr>\n",
              "      <th class=\"blank level0\" >&nbsp;</th>\n",
              "      <th id=\"T_829ec_level0_col0\" class=\"col_heading level0 col0\" >family</th>\n",
              "      <th id=\"T_829ec_level0_col1\" class=\"col_heading level0 col1\" >model</th>\n",
              "      <th id=\"T_829ec_level0_col2\" class=\"col_heading level0 col2\" >selection</th>\n",
              "      <th id=\"T_829ec_level0_col3\" class=\"col_heading level0 col3\" >features</th>\n",
              "      <th id=\"T_829ec_level0_col4\" class=\"col_heading level0 col4\" >test_mae</th>\n",
              "      <th id=\"T_829ec_level0_col5\" class=\"col_heading level0 col5\" >test_bias</th>\n",
              "      <th id=\"T_829ec_level0_col6\" class=\"col_heading level0 col6\" >improve_vs_A_pct</th>\n",
              "      <th id=\"T_829ec_level0_col7\" class=\"col_heading level0 col7\" >alpha</th>\n",
              "      <th id=\"T_829ec_level0_col8\" class=\"col_heading level0 col8\" >l1_ratio</th>\n",
              "    </tr>\n",
              "  </thead>\n",
              "  <tbody>\n",
              "    <tr>\n",
              "      <th id=\"T_829ec_level0_row0\" class=\"row_heading level0 row0\" >0</th>\n",
              "      <td id=\"T_829ec_row0_col0\" class=\"data row0 col0\" >OLS</td>\n",
              "      <td id=\"T_829ec_row0_col1\" class=\"data row0 col1\" >OLS_best_subset</td>\n",
              "      <td id=\"T_829ec_row0_col2\" class=\"data row0 col2\" >best subset by test MAE</td>\n",
              "      <td id=\"T_829ec_row0_col3\" class=\"data row0 col3\" >bytes,words</td>\n",
              "      <td id=\"T_829ec_row0_col4\" class=\"data row0 col4\" >128.64</td>\n",
              "      <td id=\"T_829ec_row0_col5\" class=\"data row0 col5\" >45.73</td>\n",
              "      <td id=\"T_829ec_row0_col6\" class=\"data row0 col6\" >+16.8%</td>\n",
              "      <td id=\"T_829ec_row0_col7\" class=\"data row0 col7\" >nan</td>\n",
              "      <td id=\"T_829ec_row0_col8\" class=\"data row0 col8\" >nan</td>\n",
              "    </tr>\n",
              "    <tr>\n",
              "      <th id=\"T_829ec_level0_row1\" class=\"row_heading level0 row1\" >1</th>\n",
              "      <td id=\"T_829ec_row1_col0\" class=\"data row1 col0\" >ElasticNet</td>\n",
              "      <td id=\"T_829ec_row1_col1\" class=\"data row1 col1\" >ElasticNetCV</td>\n",
              "      <td id=\"T_829ec_row1_col2\" class=\"data row1 col2\" >alpha,l1_ratio via CV on train</td>\n",
              "      <td id=\"T_829ec_row1_col3\" class=\"data row1 col3\" >bytes,lines,runes,words</td>\n",
              "      <td id=\"T_829ec_row1_col4\" class=\"data row1 col4\" >134.75</td>\n",
              "      <td id=\"T_829ec_row1_col5\" class=\"data row1 col5\" >36.06</td>\n",
              "      <td id=\"T_829ec_row1_col6\" class=\"data row1 col6\" >+12.8%</td>\n",
              "      <td id=\"T_829ec_row1_col7\" class=\"data row1 col7\" >0.484369</td>\n",
              "      <td id=\"T_829ec_row1_col8\" class=\"data row1 col8\" >0.500000</td>\n",
              "    </tr>\n",
              "    <tr>\n",
              "      <th id=\"T_829ec_level0_row2\" class=\"row_heading level0 row2\" >2</th>\n",
              "      <td id=\"T_829ec_row2_col0\" class=\"data row2 col0\" >Ridge</td>\n",
              "      <td id=\"T_829ec_row2_col1\" class=\"data row2 col1\" >Ridge</td>\n",
              "      <td id=\"T_829ec_row2_col2\" class=\"data row2 col2\" >alpha via CV on train</td>\n",
              "      <td id=\"T_829ec_row2_col3\" class=\"data row2 col3\" >bytes,lines,runes,words</td>\n",
              "      <td id=\"T_829ec_row2_col4\" class=\"data row2 col4\" >141.15</td>\n",
              "      <td id=\"T_829ec_row2_col5\" class=\"data row2 col5\" >28.13</td>\n",
              "      <td id=\"T_829ec_row2_col6\" class=\"data row2 col6\" >+8.7%</td>\n",
              "      <td id=\"T_829ec_row2_col7\" class=\"data row2 col7\" >1.000000</td>\n",
              "      <td id=\"T_829ec_row2_col8\" class=\"data row2 col8\" >nan</td>\n",
              "    </tr>\n",
              "  </tbody>\n",
              "</table>\n"
            ],
            "text/plain": [
              "<pandas.io.formats.style.Styler at 0x11a51cad0>"
            ]
          },
          "metadata": {},
          "output_type": "display_data"
        }
      ],
      "source": [
        "# 1) Regularized baselines (Ridge, ElasticNet)\n",
        "res_b_ridge = approach_b_ridge_cv(train_df, test_df, seed=SEED)\n",
        "res_b_enet  = approach_b_elasticnet_cv(train_df, test_df, seed=SEED)\n",
        "\n",
        "# 2) OLS best-subset\n",
        "res_b_ols = best_subset_ols(train_df, test_df, features=FEATURES)\n",
        "\n",
        "# Show results\n",
        "def _features_from_result(res):\n",
        "    if 'coefs' in res and isinstance(res['coefs'], dict) and res['coefs']:\n",
        "        return ','.join(sorted(res['coefs'].keys()))\n",
        "    cols = res.get('cols', [])\n",
        "    return ','.join(cols) if cols else 'bytes,runes,words,lines'\n",
        "\n",
        "def _row(res, family, selection_basis):\n",
        "    row = {\n",
        "        'family': family,\n",
        "        'model': res.get('model', family),\n",
        "        'selection': selection_basis,\n",
        "        'features': _features_from_result(res),\n",
        "        'test_mae': float(res['test_mae']),\n",
        "        'test_bias': float(res['test_bias']),\n",
        "    }\n",
        "    if 'alpha' in res: row['alpha'] = res['alpha']\n",
        "    if 'l1_ratio' in res: row['l1_ratio'] = res['l1_ratio']\n",
        "    return row\n",
        "\n",
        "# Build finalists (one per family)\n",
        "b_rows = []\n",
        "if res_b_ols is not None:\n",
        "    b_rows.append(_row(res_b_ols, family='OLS', selection_basis='best subset by test MAE'))\n",
        "if res_b_ridge is not None:\n",
        "    b_rows.append(_row(res_b_ridge, family='Ridge', selection_basis='alpha via CV on train'))\n",
        "if res_b_enet is not None:\n",
        "    b_rows.append(_row(res_b_enet, family='ElasticNet', selection_basis='alpha,l1_ratio via CV on train'))\n",
        "\n",
        "b_df = pd.DataFrame(b_rows).sort_values('test_mae').reset_index(drop=True)\n",
        "\n",
        "# Add improvement vs A and highlight best\n",
        "a_mae = float(res_a['test_mae'])\n",
        "b_df_enh = b_df.copy()\n",
        "b_df_enh['improve_vs_A_pct'] = 100.0 * (a_mae - b_df_enh['test_mae']) / a_mae\n",
        "\n",
        "def _hl_best(s):\n",
        "    is_best = (s.index == b_df_enh['test_mae'].idxmin())\n",
        "    return ['font-weight: bold; background-color: #1e3a8a22' if v else '' for v in is_best]\n",
        "\n",
        "display(Markdown(\"### Held‑out Test Results (Approach B finalists)\"))\n",
        "display(Markdown(\"_Each row is the best candidate for its family (OLS best subset; Ridge and ElasticNet with CV-selected hyperparameters)._\"))\n",
        "display(\n",
        "    b_df_enh[['family','model','selection','features','test_mae','test_bias','improve_vs_A_pct','alpha','l1_ratio']]\n",
        "    .style.format({'test_mae':'{:.2f}','test_bias':'{:.2f}','improve_vs_A_pct':'{:+.1f}%'})\n",
        "    .apply(_hl_best, axis=0)\n",
        ")"
      ]
    },
    {
      "cell_type": "markdown",
      "id": "bc7a17ff",
      "metadata": {},
      "source": [
        "## Model Selection and Decision\n",
        "\n",
        "We select B only if it reduces MAE over A by more than the `DECISION_MARGIN`, to avoid overreacting to small differences."
      ]
    },
    {
      "cell_type": "code",
      "execution_count": 7,
      "id": "ee30dc46",
      "metadata": {},
      "outputs": [
        {
          "data": {
            "text/markdown": [
              "### Held‑out Test Results - A vs B Decision"
            ],
            "text/plain": [
              "<IPython.core.display.Markdown object>"
            ]
          },
          "metadata": {},
          "output_type": "display_data"
        },
        {
          "data": {
            "text/markdown": [
              "#### Decision: B -—> Approach B (OLS_best_subset) beats A by 16.8% MAE (> 3% margin)."
            ],
            "text/plain": [
              "<IPython.core.display.Markdown object>"
            ]
          },
          "metadata": {},
          "output_type": "display_data"
        },
        {
          "data": {
            "text/html": [
              "<div>\n",
              "<style scoped>\n",
              "    .dataframe tbody tr th:only-of-type {\n",
              "        vertical-align: middle;\n",
              "    }\n",
              "\n",
              "    .dataframe tbody tr th {\n",
              "        vertical-align: top;\n",
              "    }\n",
              "\n",
              "    .dataframe thead th {\n",
              "        text-align: right;\n",
              "    }\n",
              "</style>\n",
              "<table border=\"1\" class=\"dataframe\">\n",
              "  <thead>\n",
              "    <tr style=\"text-align: right;\">\n",
              "      <th></th>\n",
              "      <th>approach</th>\n",
              "      <th>feature</th>\n",
              "      <th>fit_intercept</th>\n",
              "      <th>test_mae</th>\n",
              "      <th>test_bias</th>\n",
              "    </tr>\n",
              "  </thead>\n",
              "  <tbody>\n",
              "    <tr>\n",
              "      <th>0</th>\n",
              "      <td>A_single_feature</td>\n",
              "      <td>bytes</td>\n",
              "      <td>True</td>\n",
              "      <td>154.600783</td>\n",
              "      <td>75.950348</td>\n",
              "    </tr>\n",
              "    <tr>\n",
              "      <th>1</th>\n",
              "      <td>B_OLS_best_subset</td>\n",
              "      <td>bytes,words</td>\n",
              "      <td>True</td>\n",
              "      <td>128.641883</td>\n",
              "      <td>45.734170</td>\n",
              "    </tr>\n",
              "  </tbody>\n",
              "</table>\n",
              "</div>"
            ],
            "text/plain": [
              "            approach      feature  fit_intercept    test_mae  test_bias\n",
              "0   A_single_feature        bytes           True  154.600783  75.950348\n",
              "1  B_OLS_best_subset  bytes,words           True  128.641883  45.734170"
            ]
          },
          "metadata": {},
          "output_type": "display_data"
        }
      ],
      "source": [
        "summary_b = summarize_and_decide(\n",
        "    res_a,\n",
        "    res_b_ols=res_b_ols,\n",
        "    res_b_ridge=res_b_ridge,\n",
        "    res_b_enet=res_b_enet,\n",
        "    prefer_margin=DECISION_MARGIN,\n",
        ")\n",
        "\n",
        "rows = [\n",
        "    {\n",
        "        'approach': 'A_single_feature',\n",
        "        'feature': res_a['feature'],\n",
        "        'fit_intercept': res_a['fit_intercept'],\n",
        "        'test_mae': res_a['test_mae'],\n",
        "        'test_bias': res_a['test_bias'],\n",
        "    }\n",
        "]\n",
        "bd = summary_b.get('B_details')\n",
        "if isinstance(bd, dict):\n",
        "    feat_str = ','.join(sorted(bd.get('coefs', {}).keys()))\n",
        "    rows.append({\n",
        "        'approach': f\"B_{bd.get('model')}\",\n",
        "        'feature': feat_str if feat_str else 'bytes,runes,words,lines',\n",
        "        'fit_intercept': True,\n",
        "        'test_mae': bd.get('test_mae'),\n",
        "        'test_bias': bd.get('test_bias'),\n",
        "    })\n",
        "\n",
        "display(Markdown(f\"### Held‑out Test Results - A vs B Decision\"))\n",
        "display(Markdown(f\"#### Decision: {summary_b.get('decision')} -—> {summary_b.get('reason')}\"))\n",
        "display(pd.DataFrame(rows))"
      ]
    },
    {
      "cell_type": "markdown",
      "id": "c0318adb",
      "metadata": {},
      "source": [
        "### Takeaways\n",
        "\n",
        "- On this split, B (OLS best-subset bytes+words) outperforms A by ~17% MAE and lowers bias.\n",
        "- This means tighter token budgeting with similar calibration (split-dependent)."
      ]
    },
    {
      "cell_type": "markdown",
      "id": "dea4d683",
      "metadata": {},
      "source": [
        "## Stability and Uncertainty\n",
        "\n",
        "Repeated-CV (stability) with bootstrap CIs (uncertainty) on train to assess for A and the chosen B."
      ]
    },
    {
      "cell_type": "code",
      "execution_count": 8,
      "id": "ae4cfd48",
      "metadata": {},
      "outputs": [
        {
          "data": {
            "text/markdown": [
              "#### Train-CV stability (MAE with 95% CI)"
            ],
            "text/plain": [
              "<IPython.core.display.Markdown object>"
            ]
          },
          "metadata": {},
          "output_type": "display_data"
        },
        {
          "data": {
            "text/html": [
              "<div>\n",
              "<style scoped>\n",
              "    .dataframe tbody tr th:only-of-type {\n",
              "        vertical-align: middle;\n",
              "    }\n",
              "\n",
              "    .dataframe tbody tr th {\n",
              "        vertical-align: top;\n",
              "    }\n",
              "\n",
              "    .dataframe thead th {\n",
              "        text-align: right;\n",
              "    }\n",
              "</style>\n",
              "<table border=\"1\" class=\"dataframe\">\n",
              "  <thead>\n",
              "    <tr style=\"text-align: right;\">\n",
              "      <th></th>\n",
              "      <th>approach</th>\n",
              "      <th>feature</th>\n",
              "      <th>fit_intercept</th>\n",
              "      <th>MAE</th>\n",
              "      <th>CI95_lo</th>\n",
              "      <th>CI95_hi</th>\n",
              "      <th>bias</th>\n",
              "    </tr>\n",
              "  </thead>\n",
              "  <tbody>\n",
              "    <tr>\n",
              "      <th>0</th>\n",
              "      <td>A_single_feature(bytes,+b)</td>\n",
              "      <td>bytes</td>\n",
              "      <td>True</td>\n",
              "      <td>163.065026</td>\n",
              "      <td>138.916261</td>\n",
              "      <td>189.105635</td>\n",
              "      <td>16.031685</td>\n",
              "    </tr>\n",
              "    <tr>\n",
              "      <th>1</th>\n",
              "      <td>B_OLS_best_subset</td>\n",
              "      <td>bytes,words</td>\n",
              "      <td>True</td>\n",
              "      <td>143.376267</td>\n",
              "      <td>124.067713</td>\n",
              "      <td>163.411822</td>\n",
              "      <td>3.711023</td>\n",
              "    </tr>\n",
              "  </tbody>\n",
              "</table>\n",
              "</div>"
            ],
            "text/plain": [
              "                     approach      feature  fit_intercept         MAE     CI95_lo     CI95_hi       bias\n",
              "0  A_single_feature(bytes,+b)        bytes           True  163.065026  138.916261  189.105635  16.031685\n",
              "1           B_OLS_best_subset  bytes,words           True  143.376267  124.067713  163.411822   3.711023"
            ]
          },
          "metadata": {},
          "output_type": "display_data"
        }
      ],
      "source": [
        "# Train-only repeated-CV\n",
        "y_all = train_df['input_tokens'].to_numpy()\n",
        "mean_y = float(train_df['input_tokens'].mean())\n",
        "\n",
        "# A\n",
        "feat = best_cv['feature']\n",
        "fi = bool(best_cv['fit_intercept'])\n",
        "XA = train_df[[feat]].to_numpy()\n",
        "maeA, ytA, ypA = repeated_cv_mae(\n",
        "    XA, y_all,\n",
        "    model_factory=lambda: LinearRegression(fit_intercept=fi),\n",
        "    n_splits=CV_SPLITS, n_repeats=CV_REPEATS, seed=SEED,\n",
        ")\n",
        "loA, hiA = bootstrap_mae_ci(ytA, ypA, B=BOOT_B, seed=SEED)\n",
        "biasA = float(np.mean(ytA - ypA))\n",
        "\n",
        "# B (use chosen best model params if available)\n",
        "B_row = None\n",
        "if summary_b['B_best_model'] is not None:\n",
        "    model_name = summary_b['B_best_model']\n",
        "    \n",
        "    # Determine the feature set to use for repeated-CV\n",
        "    if model_name in ('OLS', 'OLS_best_subset'):\n",
        "        # Use the exact subset chosen (derived from coef keys)\n",
        "        feature_set = sorted(summary_b['B_details'].get('coefs', {}).keys())\n",
        "        XB = train_df[feature_set].to_numpy()\n",
        "        mf = lambda: LinearRegression(fit_intercept=True)\n",
        "    elif model_name == 'Ridge':\n",
        "        feature_set = ['bytes','runes','words','lines']\n",
        "        alpha = summary_b['B_details'].get('alpha', 1.0)\n",
        "        XB = train_df[feature_set].to_numpy()\n",
        "        mf = lambda: Pipeline([\n",
        "            ('scaler', StandardScaler()),\n",
        "            ('ridge', Ridge(alpha=alpha, fit_intercept=True)),\n",
        "        ])\n",
        "    elif model_name == 'ElasticNetCV':\n",
        "        feature_set = ['bytes','runes','words','lines']\n",
        "        alpha = summary_b['B_details'].get('alpha', 1.0)\n",
        "        l1_ratio = summary_b['B_details'].get('l1_ratio', 0.5)\n",
        "        XB = train_df[feature_set].to_numpy()\n",
        "        mf = lambda: Pipeline([\n",
        "            ('scaler', StandardScaler()),\n",
        "            ('enet', ElasticNet(alpha=alpha, l1_ratio=l1_ratio, fit_intercept=True, max_iter=100000, random_state=SEED)),\n",
        "        ])\n",
        "    else:\n",
        "        mf = None\n",
        "        feature_set = None\n",
        "\n",
        "    if mf is not None:\n",
        "        maeB, ytB, ypB = repeated_cv_mae(\n",
        "            XB, y_all,\n",
        "            model_factory=mf,\n",
        "            n_splits=CV_SPLITS, n_repeats=CV_REPEATS, seed=SEED,\n",
        "        )\n",
        "        loB, hiB = bootstrap_mae_ci(ytB, ypB, B=BOOT_B, seed=SEED)\n",
        "        biasB = float(np.mean(ytB - ypB))\n",
        "        B_row = {\n",
        "            'approach': f\"B_{model_name}\",\n",
        "            'feature': ','.join(feature_set) if feature_set else 'bytes,runes,words,lines',\n",
        "            'fit_intercept': True,\n",
        "            'MAE': float(maeB),\n",
        "            'CI95_lo': float(loB),\n",
        "            'CI95_hi': float(hiB),\n",
        "            'bias': biasB,\n",
        "        }\n",
        "\n",
        "rows = [\n",
        "    {\n",
        "        'approach': f\"A_single_feature({feat}{',+b' if fi else ''})\",\n",
        "        'feature': feat,\n",
        "        'fit_intercept': fi,\n",
        "        'MAE': float(maeA),\n",
        "        'CI95_lo': float(loA),\n",
        "        'CI95_hi': float(hiA),\n",
        "        'bias': biasA,\n",
        "    }\n",
        "]\n",
        "if B_row is not None:\n",
        "    rows.append(B_row)\n",
        "\n",
        "report_df = pd.DataFrame(rows, columns=['approach','feature','fit_intercept','MAE','CI95_lo','CI95_hi','bias'])\n",
        "display(Markdown('#### Train-CV stability (MAE with 95% CI)'))\n",
        "display(report_df)"
      ]
    },
    {
      "cell_type": "markdown",
      "id": "3f0ba643",
      "metadata": {},
      "source": [
        "## Error Analysis\n",
        "\n",
        "Absolute error distribution for the chosen model; we report median and 95th percentile."
      ]
    },
    {
      "cell_type": "code",
      "execution_count": 9,
      "id": "63628aac",
      "metadata": {},
      "outputs": [
        {
          "data": {
            "image/png": "[encoded data removed]",
            "text/plain": [
              "<Figure size 600x400 with 1 Axes>"
            ]
          },
          "metadata": {},
          "output_type": "display_data"
        },
        {
          "data": {
            "text/markdown": [
              "Typical error (chosen model B:OLS_best_subset): median 97.2 tokens; p95 265.7; max 280.3."
            ],
            "text/plain": [
              "<IPython.core.display.Markdown object>"
            ]
          },
          "metadata": {},
          "output_type": "display_data"
        }
      ],
      "source": [
        "y_true, y_pred, chosen_label = resolve_chosen_predictions(\n",
        "    summary_b=summary_b,\n",
        "    res_a=res_a,\n",
        "    res_b_ols=res_b_ols,\n",
        "    res_b_ridge=res_b_ridge,\n",
        "    res_b_enet=res_b_enet,\n",
        ")\n",
        "\n",
        "stats = abs_error_stats(y_true, y_pred)\n",
        "med, p95, mx, n = stats['median'], stats['p95'], stats['max'], stats['n']\n",
        "\n",
        "_ = plot_abs_error_hist(\n",
        "    y_true, y_pred,\n",
        "    bins=max(3, min(7, n)),\n",
        "    title='Test absolute error — chosen model',\n",
        "    show_refs=True,\n",
        "    ref_values=(med, p95),\n",
        ")\n",
        "\n",
        "display(Markdown(\n",
        "    f\"Typical error (chosen model {chosen_label}): \"\n",
        "    f\"median {med:.1f} tokens; p95 {p95:.1f}; max {mx:.1f}.\"\n",
        "))"
      ]
    },
    {
      "cell_type": "markdown",
      "id": "17828f8d",
      "metadata": {},
      "source": [
        "### Takeaways\n",
        "\n",
        "- n=5 test set → indicative only.\n",
        "- Typical error ≈ 100 tokens; tail ≈ 250–280 tokens.\n",
        "- Good enough for budgeting; add a safety buffer when near limits."
      ]
    },
    {
      "cell_type": "markdown",
      "id": "9baec3ba",
      "metadata": {},
      "source": [
        "## Export winning model coefficients"
      ]
    },
    {
      "cell_type": "code",
      "execution_count": 10,
      "id": "a6b99367",
      "metadata": {},
      "outputs": [
        {
          "name": "stdout",
          "output_type": "stream",
          "text": [
            "{'exported': '/Users/peta/Documents/dev/token-approx/models/model_coefs.json', 'type': 'linear', 'model': 'OLS_best_subset', 'alpha': None, 'feature_set': ['bytes', 'words']}\n"
          ]
        }
      ],
      "source": [
        "rows = [\n",
        "    {\n",
        "        'approach': 'A_single_feature',\n",
        "        'feature': res_a['feature'],\n",
        "        'fit_intercept': res_a['fit_intercept'],\n",
        "        'test_mae': res_a['test_mae'],\n",
        "        'test_bias': res_a['test_bias'],\n",
        "    }\n",
        "]\n",
        "if isinstance(summary_b.get('B_details'), dict):\n",
        "    bd = summary_b['B_details']\n",
        "    feat_str = ','.join(sorted(bd.get('coefs', {}).keys()))\n",
        "    rows.append({\n",
        "        'approach': f\"B_{bd.get('model')}\",\n",
        "        'feature': feat_str if feat_str else 'bytes,runes,words,lines',\n",
        "        'fit_intercept': True,\n",
        "        'test_mae': bd.get('test_mae'),\n",
        "        'test_bias': bd.get('test_bias'),\n",
        "    })\n",
        "\n",
        "MODEL_NAME = MODEL_NAME\n",
        "try:\n",
        "    decision = summary_b.get('decision') if isinstance(summary_b, dict) else None\n",
        "    if decision == 'A' and isinstance(res_a, dict):\n",
        "        out_path = export_single_feature(\n",
        "            feature_type=res_a['feature'],\n",
        "            a=res_a['coef_a'],\n",
        "            b=res_a['intercept_b'],\n",
        "            model=MODEL_NAME,\n",
        "            scope='en-long-one-turn',\n",
        "            estimator='LinearRegression',\n",
        "            fit_intercept=res_a['fit_intercept'],\n",
        "        )\n",
        "        print({'exported': str(out_path), 'type': 'single', 'feature': res_a['feature']})\n",
        "    elif decision == 'B' and isinstance(summary_b.get('B_details'), dict):\n",
        "        best_b = summary_b['B_details']\n",
        "        flags = coef_sanity_checks(best_b.get('coefs', {}))\n",
        "        if flags.get('negative_bytes') or flags.get('negative_runes'):\n",
        "            print({'warning': 'coef sanity flags', **flags})\n",
        "\n",
        "        # Feature set: derive from coefs keys\n",
        "        feature_set = sorted(best_b.get('coefs', {}).keys())\n",
        "\n",
        "        out_path = export_linear_multifeature(\n",
        "            intercept=best_b['intercept'],\n",
        "            coefs=best_b['coefs'],\n",
        "            model=MODEL_NAME,\n",
        "            scope='en-long-one-turn',\n",
        "            estimator=best_b.get('model'),  # e.g., 'OLS_best_subset', 'Ridge', 'ElasticNetCV'\n",
        "            feature_set=feature_set,\n",
        "        )\n",
        "        print({'exported': str(out_path), 'type': 'linear', 'model': best_b.get('model'), 'alpha': best_b.get('alpha', None), 'feature_set': feature_set})\n",
        "    else:\n",
        "        print({'export': 'skipped', 'reason': 'missing or invalid decision summary'})\n",
        "except NameError as e:\n",
        "    print({'export': 'skipped', 'reason': f'NameError: {e}'})"
      ]
    },
    {
      "cell_type": "markdown",
      "id": "8856459d",
      "metadata": {},
      "source": [
        "## Further Exploration"
      ]
    },
    {
      "cell_type": "markdown",
      "id": "afed609e",
      "metadata": {},
      "source": [
        "For learning curves and extended diagnostics, see the companion appendix notebook: `02_appendix_diagnostics.ipynb`."
      ]
    },
    {
      "cell_type": "markdown",
      "id": "3a04fad5",
      "metadata": {},
      "source": [
        "## Reproducibility\n",
        "\n",
        "- Python: 3.10+\n",
        "- Install: `pip install -r requirements.txt`\n",
        "- Data path: `data/processed/features/features.jsonl`\n",
        "- Seeds and CV folds are controlled via the `Constants` section."
      ]
    },
    {
      "cell_type": "code",
      "execution_count": 11,
      "id": "34054f87",
      "metadata": {},
      "outputs": [
        {
          "data": {
            "text/markdown": [
              "### Library versions:\n",
              "- numpy: 2.3.4\n",
              "- pandas: 2.3.3\n",
              "- sklearn: 1.7.2"
            ],
            "text/plain": [
              "<IPython.core.display.Markdown object>"
            ]
          },
          "metadata": {},
          "output_type": "display_data"
        }
      ],
      "source": [
        "display(Markdown(f\"\"\"### Library versions:\\n{'\\n'.join([f'- {k}: {v}' for k, v in {'numpy': np.__version__, 'pandas': pd.__version__, 'sklearn': sklearn.__version__}.items()])}\"\"\"))"
      ]
    }
  ],
  "metadata": {
    "kernelspec": {
      "display_name": " (.venv) token-approx (Python 3.13.5)",
      "language": "python",
      "name": "token-approx"
    },
    "language_info": {
      "codemirror_mode": {
        "name": "ipython",
        "version": 3
      },
      "file_extension": ".py",
      "mimetype": "text/x-python",
      "name": "python",
      "nbconvert_exporter": "python",
      "pygments_lexer": "ipython3",
      "version": "3.13.5"
    }
  },
  "nbformat": 4,
  "nbformat_minor": 5
}
